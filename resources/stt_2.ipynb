{
 "cells": [
  {
   "cell_type": "code",
   "execution_count": 9,
   "metadata": {},
   "outputs": [
    {
     "name": "stderr",
     "output_type": "stream",
     "text": [
      "/home/juanespadi/.local/lib/python3.8/site-packages/whisper/transcribe.py:114: UserWarning: FP16 is not supported on CPU; using FP32 instead\n",
      "  warnings.warn(\"FP16 is not supported on CPU; using FP32 instead\")\n"
     ]
    },
    {
     "name": "stdout",
     "output_type": "stream",
     "text": [
      " Hey, motherfucker!\n"
     ]
    }
   ],
   "source": [
    "import whisper\n",
    "\n",
    "\n",
    "model = whisper.load_model(\"base\")\n",
    "result = model.transcribe(\"./audios/audio.wav\")\n",
    "print(result[\"text\"])\n",
    "\n",
    "texto = result[\"text\"]\n",
    "\n",
    "with open('./transcriptions/output.txt', \"w\") as archivo:\n",
    "    archivo.write(texto)"
   ]
  }
 ],
 "metadata": {
  "kernelspec": {
   "display_name": "homl3",
   "language": "python",
   "name": "python3"
  },
  "language_info": {
   "codemirror_mode": {
    "name": "ipython",
    "version": 3
   },
   "file_extension": ".py",
   "mimetype": "text/x-python",
   "name": "python",
   "nbconvert_exporter": "python",
   "pygments_lexer": "ipython3",
   "version": "3.8.10"
  },
  "orig_nbformat": 4
 },
 "nbformat": 4,
 "nbformat_minor": 2
}
